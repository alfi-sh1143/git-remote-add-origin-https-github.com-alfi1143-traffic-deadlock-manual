{
  "nbformat": 4,
  "nbformat_minor": 0,
  "metadata": {
    "colab": {
      "provenance": [],
      "authorship_tag": "ABX9TyMyGwnKK7T5oc1eH+xODMBp",
      "include_colab_link": true
    },
    "kernelspec": {
      "name": "python3",
      "display_name": "Python 3"
    },
    "language_info": {
      "name": "python"
    }
  },
  "cells": [
    {
      "cell_type": "markdown",
      "metadata": {
        "id": "view-in-github",
        "colab_type": "text"
      },
      "source": [
        "<a href=\"https://colab.research.google.com/github/alfi-sh1143/git-remote-add-origin-https-github.com-alfi1143-traffic-deadlock-manual/blob/main/Copy_of_XAI_for_Credit_Card_Fraud_Detection.ipynb\" target=\"_parent\"><img src=\"https://colab.research.google.com/assets/colab-badge.svg\" alt=\"Open In Colab\"/></a>"
      ]
    },
    {
      "cell_type": "code",
      "source": [
        "!pip install shap lime -q\n",
        "!pip install xgboost -q\n",
        "\n",
        "import pandas as pd\n",
        "import numpy as np\n",
        "import shap\n",
        "import lime\n",
        "import lime.lime_tabular\n",
        "import matplotlib.pyplot as plt\n",
        "import seaborn as sns\n",
        "\n",
        "from sklearn.model_selection import train_test_split\n",
        "from sklearn.metrics import classification_report, confusion_matrix\n",
        "import xgboost as xgb\n"
      ],
      "metadata": {
        "id": "GfBAc-uhdEwk",
        "colab": {
          "base_uri": "https://localhost:8080/"
        },
        "outputId": "7f5b69d4-2c4f-4d64-ee66-eca0ab641c22"
      },
      "execution_count": 1,
      "outputs": [
        {
          "output_type": "stream",
          "name": "stdout",
          "text": [
            "\u001b[?25l     \u001b[90m━━━━━━━━━━━━━━━━━━━━━━━━━━━━━━━━━━━━━━━━\u001b[0m \u001b[32m0.0/275.7 kB\u001b[0m \u001b[31m?\u001b[0m eta \u001b[36m-:--:--\u001b[0m\r\u001b[2K     \u001b[91m━━━━━━━━━━━━━━━━━━━━━━━━━━━━━━━━━━━━━\u001b[0m\u001b[91m╸\u001b[0m\u001b[90m━\u001b[0m \u001b[32m266.2/275.7 kB\u001b[0m \u001b[31m8.1 MB/s\u001b[0m eta \u001b[36m0:00:01\u001b[0m\r\u001b[2K     \u001b[90m━━━━━━━━━━━━━━━━━━━━━━━━━━━━━━━━━━━━━━━\u001b[0m \u001b[32m275.7/275.7 kB\u001b[0m \u001b[31m5.7 MB/s\u001b[0m eta \u001b[36m0:00:00\u001b[0m\n",
            "\u001b[?25h  Preparing metadata (setup.py) ... \u001b[?25l\u001b[?25hdone\n",
            "  Building wheel for lime (setup.py) ... \u001b[?25l\u001b[?25hdone\n"
          ]
        }
      ]
    },
    {
      "cell_type": "code",
      "source": [
        "url = \"/content/creditcard.csv\"\n",
        "df = pd.read_csv(url)\n",
        "\n",
        "df.head()\n"
      ],
      "metadata": {
        "colab": {
          "base_uri": "https://localhost:8080/",
          "height": 351
        },
        "id": "JfHh8E4TdfNn",
        "outputId": "83e5aa05-b366-4f8c-fb87-ab4a599e3d9e"
      },
      "execution_count": 2,
      "outputs": [
        {
          "output_type": "error",
          "ename": "FileNotFoundError",
          "evalue": "[Errno 2] No such file or directory: '/content/creditcard.csv'",
          "traceback": [
            "\u001b[0;31m---------------------------------------------------------------------------\u001b[0m",
            "\u001b[0;31mFileNotFoundError\u001b[0m                         Traceback (most recent call last)",
            "\u001b[0;32m/tmp/ipython-input-2-1099600109.py\u001b[0m in \u001b[0;36m<cell line: 0>\u001b[0;34m()\u001b[0m\n\u001b[1;32m      1\u001b[0m \u001b[0murl\u001b[0m \u001b[0;34m=\u001b[0m \u001b[0;34m\"/content/creditcard.csv\"\u001b[0m\u001b[0;34m\u001b[0m\u001b[0;34m\u001b[0m\u001b[0m\n\u001b[0;32m----> 2\u001b[0;31m \u001b[0mdf\u001b[0m \u001b[0;34m=\u001b[0m \u001b[0mpd\u001b[0m\u001b[0;34m.\u001b[0m\u001b[0mread_csv\u001b[0m\u001b[0;34m(\u001b[0m\u001b[0murl\u001b[0m\u001b[0;34m)\u001b[0m\u001b[0;34m\u001b[0m\u001b[0;34m\u001b[0m\u001b[0m\n\u001b[0m\u001b[1;32m      3\u001b[0m \u001b[0;34m\u001b[0m\u001b[0m\n\u001b[1;32m      4\u001b[0m \u001b[0mdf\u001b[0m\u001b[0;34m.\u001b[0m\u001b[0mhead\u001b[0m\u001b[0;34m(\u001b[0m\u001b[0;34m)\u001b[0m\u001b[0;34m\u001b[0m\u001b[0;34m\u001b[0m\u001b[0m\n",
            "\u001b[0;32m/usr/local/lib/python3.11/dist-packages/pandas/io/parsers/readers.py\u001b[0m in \u001b[0;36mread_csv\u001b[0;34m(filepath_or_buffer, sep, delimiter, header, names, index_col, usecols, dtype, engine, converters, true_values, false_values, skipinitialspace, skiprows, skipfooter, nrows, na_values, keep_default_na, na_filter, verbose, skip_blank_lines, parse_dates, infer_datetime_format, keep_date_col, date_parser, date_format, dayfirst, cache_dates, iterator, chunksize, compression, thousands, decimal, lineterminator, quotechar, quoting, doublequote, escapechar, comment, encoding, encoding_errors, dialect, on_bad_lines, delim_whitespace, low_memory, memory_map, float_precision, storage_options, dtype_backend)\u001b[0m\n\u001b[1;32m   1024\u001b[0m     \u001b[0mkwds\u001b[0m\u001b[0;34m.\u001b[0m\u001b[0mupdate\u001b[0m\u001b[0;34m(\u001b[0m\u001b[0mkwds_defaults\u001b[0m\u001b[0;34m)\u001b[0m\u001b[0;34m\u001b[0m\u001b[0;34m\u001b[0m\u001b[0m\n\u001b[1;32m   1025\u001b[0m \u001b[0;34m\u001b[0m\u001b[0m\n\u001b[0;32m-> 1026\u001b[0;31m     \u001b[0;32mreturn\u001b[0m \u001b[0m_read\u001b[0m\u001b[0;34m(\u001b[0m\u001b[0mfilepath_or_buffer\u001b[0m\u001b[0;34m,\u001b[0m \u001b[0mkwds\u001b[0m\u001b[0;34m)\u001b[0m\u001b[0;34m\u001b[0m\u001b[0;34m\u001b[0m\u001b[0m\n\u001b[0m\u001b[1;32m   1027\u001b[0m \u001b[0;34m\u001b[0m\u001b[0m\n\u001b[1;32m   1028\u001b[0m \u001b[0;34m\u001b[0m\u001b[0m\n",
            "\u001b[0;32m/usr/local/lib/python3.11/dist-packages/pandas/io/parsers/readers.py\u001b[0m in \u001b[0;36m_read\u001b[0;34m(filepath_or_buffer, kwds)\u001b[0m\n\u001b[1;32m    618\u001b[0m \u001b[0;34m\u001b[0m\u001b[0m\n\u001b[1;32m    619\u001b[0m     \u001b[0;31m# Create the parser.\u001b[0m\u001b[0;34m\u001b[0m\u001b[0;34m\u001b[0m\u001b[0m\n\u001b[0;32m--> 620\u001b[0;31m     \u001b[0mparser\u001b[0m \u001b[0;34m=\u001b[0m \u001b[0mTextFileReader\u001b[0m\u001b[0;34m(\u001b[0m\u001b[0mfilepath_or_buffer\u001b[0m\u001b[0;34m,\u001b[0m \u001b[0;34m**\u001b[0m\u001b[0mkwds\u001b[0m\u001b[0;34m)\u001b[0m\u001b[0;34m\u001b[0m\u001b[0;34m\u001b[0m\u001b[0m\n\u001b[0m\u001b[1;32m    621\u001b[0m \u001b[0;34m\u001b[0m\u001b[0m\n\u001b[1;32m    622\u001b[0m     \u001b[0;32mif\u001b[0m \u001b[0mchunksize\u001b[0m \u001b[0;32mor\u001b[0m \u001b[0miterator\u001b[0m\u001b[0;34m:\u001b[0m\u001b[0;34m\u001b[0m\u001b[0;34m\u001b[0m\u001b[0m\n",
            "\u001b[0;32m/usr/local/lib/python3.11/dist-packages/pandas/io/parsers/readers.py\u001b[0m in \u001b[0;36m__init__\u001b[0;34m(self, f, engine, **kwds)\u001b[0m\n\u001b[1;32m   1618\u001b[0m \u001b[0;34m\u001b[0m\u001b[0m\n\u001b[1;32m   1619\u001b[0m         \u001b[0mself\u001b[0m\u001b[0;34m.\u001b[0m\u001b[0mhandles\u001b[0m\u001b[0;34m:\u001b[0m \u001b[0mIOHandles\u001b[0m \u001b[0;34m|\u001b[0m \u001b[0;32mNone\u001b[0m \u001b[0;34m=\u001b[0m \u001b[0;32mNone\u001b[0m\u001b[0;34m\u001b[0m\u001b[0;34m\u001b[0m\u001b[0m\n\u001b[0;32m-> 1620\u001b[0;31m         \u001b[0mself\u001b[0m\u001b[0;34m.\u001b[0m\u001b[0m_engine\u001b[0m \u001b[0;34m=\u001b[0m \u001b[0mself\u001b[0m\u001b[0;34m.\u001b[0m\u001b[0m_make_engine\u001b[0m\u001b[0;34m(\u001b[0m\u001b[0mf\u001b[0m\u001b[0;34m,\u001b[0m \u001b[0mself\u001b[0m\u001b[0;34m.\u001b[0m\u001b[0mengine\u001b[0m\u001b[0;34m)\u001b[0m\u001b[0;34m\u001b[0m\u001b[0;34m\u001b[0m\u001b[0m\n\u001b[0m\u001b[1;32m   1621\u001b[0m \u001b[0;34m\u001b[0m\u001b[0m\n\u001b[1;32m   1622\u001b[0m     \u001b[0;32mdef\u001b[0m \u001b[0mclose\u001b[0m\u001b[0;34m(\u001b[0m\u001b[0mself\u001b[0m\u001b[0;34m)\u001b[0m \u001b[0;34m->\u001b[0m \u001b[0;32mNone\u001b[0m\u001b[0;34m:\u001b[0m\u001b[0;34m\u001b[0m\u001b[0;34m\u001b[0m\u001b[0m\n",
            "\u001b[0;32m/usr/local/lib/python3.11/dist-packages/pandas/io/parsers/readers.py\u001b[0m in \u001b[0;36m_make_engine\u001b[0;34m(self, f, engine)\u001b[0m\n\u001b[1;32m   1878\u001b[0m                 \u001b[0;32mif\u001b[0m \u001b[0;34m\"b\"\u001b[0m \u001b[0;32mnot\u001b[0m \u001b[0;32min\u001b[0m \u001b[0mmode\u001b[0m\u001b[0;34m:\u001b[0m\u001b[0;34m\u001b[0m\u001b[0;34m\u001b[0m\u001b[0m\n\u001b[1;32m   1879\u001b[0m                     \u001b[0mmode\u001b[0m \u001b[0;34m+=\u001b[0m \u001b[0;34m\"b\"\u001b[0m\u001b[0;34m\u001b[0m\u001b[0;34m\u001b[0m\u001b[0m\n\u001b[0;32m-> 1880\u001b[0;31m             self.handles = get_handle(\n\u001b[0m\u001b[1;32m   1881\u001b[0m                 \u001b[0mf\u001b[0m\u001b[0;34m,\u001b[0m\u001b[0;34m\u001b[0m\u001b[0;34m\u001b[0m\u001b[0m\n\u001b[1;32m   1882\u001b[0m                 \u001b[0mmode\u001b[0m\u001b[0;34m,\u001b[0m\u001b[0;34m\u001b[0m\u001b[0;34m\u001b[0m\u001b[0m\n",
            "\u001b[0;32m/usr/local/lib/python3.11/dist-packages/pandas/io/common.py\u001b[0m in \u001b[0;36mget_handle\u001b[0;34m(path_or_buf, mode, encoding, compression, memory_map, is_text, errors, storage_options)\u001b[0m\n\u001b[1;32m    871\u001b[0m         \u001b[0;32mif\u001b[0m \u001b[0mioargs\u001b[0m\u001b[0;34m.\u001b[0m\u001b[0mencoding\u001b[0m \u001b[0;32mand\u001b[0m \u001b[0;34m\"b\"\u001b[0m \u001b[0;32mnot\u001b[0m \u001b[0;32min\u001b[0m \u001b[0mioargs\u001b[0m\u001b[0;34m.\u001b[0m\u001b[0mmode\u001b[0m\u001b[0;34m:\u001b[0m\u001b[0;34m\u001b[0m\u001b[0;34m\u001b[0m\u001b[0m\n\u001b[1;32m    872\u001b[0m             \u001b[0;31m# Encoding\u001b[0m\u001b[0;34m\u001b[0m\u001b[0;34m\u001b[0m\u001b[0m\n\u001b[0;32m--> 873\u001b[0;31m             handle = open(\n\u001b[0m\u001b[1;32m    874\u001b[0m                 \u001b[0mhandle\u001b[0m\u001b[0;34m,\u001b[0m\u001b[0;34m\u001b[0m\u001b[0;34m\u001b[0m\u001b[0m\n\u001b[1;32m    875\u001b[0m                 \u001b[0mioargs\u001b[0m\u001b[0;34m.\u001b[0m\u001b[0mmode\u001b[0m\u001b[0;34m,\u001b[0m\u001b[0;34m\u001b[0m\u001b[0;34m\u001b[0m\u001b[0m\n",
            "\u001b[0;31mFileNotFoundError\u001b[0m: [Errno 2] No such file or directory: '/content/creditcard.csv'"
          ]
        }
      ]
    },
    {
      "cell_type": "code",
      "source": [
        "# Drop rows with NaN values in the 'Class' column\n",
        "df_cleaned = df.dropna(subset=['Class'])\n",
        "\n",
        "X = df_cleaned.drop('Class', axis=1)\n",
        "y = df_cleaned['Class']\n",
        "\n",
        "# Train-test split with stratification due to imbalance\n",
        "X_train, X_test, y_train, y_test = train_test_split(X, y, stratify=y, test_size=0.2, random_state=42)\n",
        "\n",
        "print(\"Data split successfully.\")\n",
        "print(\"Shape of X_train:\", X_train.shape)\n",
        "print(\"Shape of X_test:\", X_test.shape)\n",
        "print(\"Shape of y_train:\", y_train.shape)\n",
        "print(\"Shape of y_test:\", y_test.shape)"
      ],
      "metadata": {
        "id": "U8cREAd2eEPu"
      },
      "execution_count": null,
      "outputs": []
    },
    {
      "cell_type": "code",
      "source": [
        "model = xgb.XGBClassifier(use_label_encoder=False, eval_metric='logloss')\n",
        "model.fit(X_train, y_train)\n",
        "\n",
        "y_pred = model.predict(X_test)\n",
        "print(classification_report(y_test, y_pred))\n"
      ],
      "metadata": {
        "id": "SsaAbMJReO0e"
      },
      "execution_count": null,
      "outputs": []
    },
    {
      "cell_type": "code",
      "source": [
        "explainer = shap.Explainer(model)\n",
        "shap_values = explainer(X_test)\n",
        "\n",
        "# Summary plot\n",
        "shap.summary_plot(shap_values, X_test)\n"
      ],
      "metadata": {
        "id": "O_rv5wjEeTRM"
      },
      "execution_count": null,
      "outputs": []
    },
    {
      "cell_type": "code",
      "source": [
        "# Force plot for one prediction\n",
        "shap.initjs()\n",
        "\n",
        "# Generate SHAP Explanation object for a single instance\n",
        "# Pass the single instance as a DataFrame with one row\n",
        "single_instance_explanation = explainer(X_test.iloc[[0]])\n",
        "\n",
        "# Pass the Explanation object for the single instance to shap.force_plot\n",
        "shap.force_plot(single_instance_explanation)"
      ],
      "metadata": {
        "id": "w6cXPOh-eZSM"
      },
      "execution_count": null,
      "outputs": []
    },
    {
      "cell_type": "code",
      "source": [
        "explainer_lime = lime.lime_tabular.LimeTabularExplainer(X_train.values,\n",
        "            feature_names=X_train.columns,\n",
        "            class_names=[\"Not Fraud\", \"Fraud\"],\n",
        "            verbose=True, mode='classification')\n",
        "\n",
        "i = 2  # Pick one test instance\n",
        "exp = explainer_lime.explain_instance(X_test.values[i], model.predict_proba, num_features=10)\n",
        "exp.show_in_notebook(show_table=True)\n"
      ],
      "metadata": {
        "id": "abpNA33be-b-"
      },
      "execution_count": null,
      "outputs": []
    },
    {
      "cell_type": "markdown",
      "metadata": {
        "id": "cb71c45b"
      },
      "source": [
        "## Model Interpretation with LIME\n",
        "\n",
        "LIME (Local Interpretable Model-agnostic Explanations) is a technique that explains the predictions of any black-box model by approximating it with a local interpretable model around the prediction.\n",
        "\n",
        "Let's generate LIME explanations for a few instances from the test set to understand why the model made those specific predictions."
      ]
    },
    {
      "cell_type": "code",
      "metadata": {
        "id": "e52e198c"
      },
      "source": [
        "# Assuming model and X_test are available from previous steps\n",
        "\n",
        "# Create a LIME explainer\n",
        "# Need to provide training data (or a representative sample) and feature names\n",
        "# The data needs to be a numpy array for LIME\n",
        "explainer_lime = lime.lime_tabular.LimeTabularExplainer(\n",
        "    training_data=X_train.values,\n",
        "    feature_names=X_train.columns.tolist(),\n",
        "    class_names=['Not Fraud', 'Fraud'],\n",
        "    mode='classification'\n",
        ")\n",
        "\n",
        "# Select a few instances to explain (e.g., the first few from the test set)\n",
        "# and potentially an instance predicted as fraud if available\n",
        "instances_to_explain = X_test.head(2)\n",
        "\n",
        "# Find an instance predicted as fraud in the test set, if any\n",
        "fraud_indices = y_test[y_test == 1].index\n",
        "if len(fraud_indices) > 0:\n",
        "    # Get the actual instance from X_test using the index\n",
        "    fraud_instance = X_test.loc[[fraud_indices[0]]]\n",
        "    instances_to_explain = pd.concat([instances_to_explain, fraud_instance])\n",
        "    print(\"Adding a fraud instance to explanations.\")\n",
        "\n",
        "# Ensure unique indices in case the head instances were also fraud\n",
        "instances_to_explain = instances_to_explain[~instances_to_explain.index.duplicated(keep='first')]\n",
        "\n",
        "\n",
        "print(f\"\\nGenerating LIME explanations for {len(instances_to_explain)} instances...\")\n",
        "\n",
        "# Generate and display LIME explanations\n",
        "for index, instance in instances_to_explain.iterrows():\n",
        "    print(f\"\\nExplaining instance with index: {index}\")\n",
        "    # LIME expects a single sample as a numpy array\n",
        "    explanation = explainer_lime.explain_instance(\n",
        "        data_row=instance.values,\n",
        "        predict_fn=model.predict_proba, # Use predict_proba for classification\n",
        "        num_features=len(X_train.columns) # Explain using all features\n",
        "    )\n",
        "\n",
        "    # Display the explanation in the notebook\n",
        "    print(f\"LIME Explanation for instance {index}:\")\n",
        "    explanation.as_html() # Display as HTML for better visualization"
      ],
      "execution_count": null,
      "outputs": []
    },
    {
      "cell_type": "code",
      "source": [
        "# Select a single instance (index 1 in this case)\n",
        "sample = X_test.iloc[1]\n",
        "pred = model.predict([sample])\n",
        "print(\"Prediction:\", \"Fraud\" if pred[0] else \"Not Fraud\")\n",
        "\n",
        "# Generate SHAP Explanation object for the single instance\n",
        "# Pass the single instance as a DataFrame with one row\n",
        "single_instance_explanation = explainer(X_test.iloc[[1]])\n",
        "\n",
        "# Pass the Explanation object for the single instance to shap.force_plot\n",
        "shap.initjs() # Initialize JS visualization\n",
        "shap.force_plot(single_instance_explanation)"
      ],
      "metadata": {
        "id": "O5EIV4KNfC78"
      },
      "execution_count": null,
      "outputs": []
    },
    {
      "cell_type": "code",
      "source": [
        "print(\"Input Values:\")\n",
        "display(sample.to_frame().T)\n",
        "\n",
        "print(\"Prediction:\", \"✅ Fraud\" if pred[0] else \"❌ Not Fraud\")\n"
      ],
      "metadata": {
        "id": "IBDe26cUf5lh"
      },
      "execution_count": null,
      "outputs": []
    },
    {
      "cell_type": "code",
      "source": [
        "# Safe loop with proper SHAP explanation object\n",
        "for i in [1, 30, 150]:  # or any sample indexes\n",
        "    sample = X_test.iloc[i]\n",
        "    pred = model.predict([sample])[0]\n",
        "\n",
        "    print(f\"\\n🔍 Sample {i} — Prediction: {'Fraud' if pred else 'Not Fraud'}\")\n",
        "\n",
        "    # Get SHAP explanation for this instance only\n",
        "    sample_shap_value = shap.Explanation(\n",
        "        values=shap_values[i].values,\n",
        "        base_values=shap_values[i].base_values,\n",
        "        data=sample,\n",
        "        feature_names=X_test.columns\n",
        "    )\n",
        "\n",
        "    # Display force plot (no error!)\n",
        "    shap.initjs()\n",
        "    display(shap.force_plot(sample_shap_value.base_values, sample_shap_value.values, sample_shap_value.data))\n"
      ],
      "metadata": {
        "id": "PPs6vaZcgv9N"
      },
      "execution_count": null,
      "outputs": []
    },
    {
      "cell_type": "code",
      "source": [
        "# Find fraud indexes in test set\n",
        "fraud_indices = y_test[y_test == 1].index.tolist()\n",
        "\n",
        "print(\"Fraud sample indexes in test set:\", fraud_indices)\n"
      ],
      "metadata": {
        "id": "GUi33y5cjQg8"
      },
      "execution_count": null,
      "outputs": []
    },
    {
      "cell_type": "code",
      "source": [
        "# Find not-fraud indexes in test set\n",
        "not_fraud_indices = y_test[y_test == 0].index.tolist()\n",
        "\n",
        "print(\"Not Fraud sample indexes in test set:\", not_fraud_indices)\n",
        "\n"
      ],
      "metadata": {
        "id": "zt_oE7t8oBXT"
      },
      "execution_count": null,
      "outputs": []
    },
    {
      "cell_type": "code",
      "source": [
        "# Step 1: Pick a fraud sample from X_test\n",
        "# Find indices of fraud transactions in the test set\n",
        "fraud_indices_in_test = y_test[y_test == 1].index.tolist()\n",
        "\n",
        "if not fraud_indices_in_test:\n",
        "    print(\"No fraud samples found in the test set (X_test). Cannot generate force plot for a fraud prediction.\")\n",
        "else:\n",
        "    # Select the first fraud index found in the test set\n",
        "    index_to_explain = fraud_indices_in_test[0]\n",
        "    sample = X_test.loc[index_to_explain]\n",
        "\n",
        "    # Step 2: Predict using the model\n",
        "    pred = model.predict([sample])[0]\n",
        "    print(f\"Prediction for index {index_to_explain}:\", \"✅ Fraud\" if pred else \"❌ Not Fraud\")\n",
        "\n",
        "    # Step 3: SHAP explanation for this instance\n",
        "    # Generate Explanation object for the single instance\n",
        "    single_instance_explanation = explainer(X_test.loc[[index_to_explain]])\n",
        "\n",
        "    # Step 4: Show force plot (explain why it predicted)\n",
        "    shap.initjs()\n",
        "    display(shap.force_plot(single_instance_explanation))"
      ],
      "metadata": {
        "id": "O-19RlBimNb9"
      },
      "execution_count": null,
      "outputs": []
    },
    {
      "cell_type": "code",
      "source": [
        "import numpy as np # Import numpy if not already imported\n",
        "\n",
        "# Fraud sample (actual: 1, predicted: 0 ❌)\n",
        "# We need to ensure this index is in X_test and is a fraud case.\n",
        "# From previous runs, we know 77348 is in X_test and is fraud.\n",
        "fraud_index = 102442\n",
        "\n",
        "# Get the sample from X_test using the original index label\n",
        "sample_fraud = X_test.loc[fraud_index]\n",
        "\n",
        "# Predict using the model for verification\n",
        "pred_fraud = model.predict([sample_fraud])[0]\n",
        "print(f\"🔴 Fraud Sample - Index {fraud_index}\")\n",
        "print(\"👉 Actual: Fraud (1), Predicted:\", \"✅ Fraud\" if pred_fraud else \"❌ Not Fraud\")\n",
        "\n",
        "# Get the positional index of the fraud sample within X_test\n",
        "# This is needed to index the shap_values Explanation object correctly\n",
        "try:\n",
        "    positional_index = X_test.index.get_loc(fraud_index)\n",
        "    print(f\"Positional index of original index {fraud_index} in X_test: {positional_index}\")\n",
        "except KeyError:\n",
        "    print(f\"Error: Original index {fraud_index} not found in X_test. Please select a fraud index from X_test.\")\n",
        "    positional_index = None # Set to None if not found\n",
        "\n",
        "if positional_index is not None:\n",
        "    # SHAP Explanation\n",
        "    # explainer is the SHAP explainer object from previous cells\n",
        "    # shap_values is the Explanation object for the entire X_test from previous cells\n",
        "\n",
        "    # Access the SHAP values, base values, and data for the specific instance\n",
        "    # using the positional index\n",
        "    ex_fraud = shap.Explanation(\n",
        "        values=shap_values[positional_index].values,\n",
        "        base_values=shap_values[positional_index].base_values,\n",
        "        data=shap_values[positional_index].data,\n",
        "        feature_names=X_test.columns.tolist() # Use feature names from X_test\n",
        "    )\n",
        "\n",
        "    # Display force plot\n",
        "    shap.initjs()\n",
        "    display(shap.force_plot(ex_fraud))\n",
        "\n",
        "else:\n",
        "    print(\"Cannot generate force plot because the fraud index was not found in X_test.\")"
      ],
      "metadata": {
        "id": "KPix9txymlPq"
      },
      "execution_count": null,
      "outputs": []
    },
    {
      "cell_type": "code",
      "source": [
        "# Not Fraud sample (actual: 0, predicted: 0 ✅)\n",
        "not_fraud_index = y_test[y_test == 0].index[0]  # Pick first non-fraud index\n",
        "\n",
        "# Get the sample from X_test using the original index label\n",
        "sample_nf = X_test.loc[not_fraud_index]\n",
        "pred_nf = model.predict([sample_nf])[0]\n",
        "print(f\"\\n🟢 Not Fraud Sample - Index {not_fraud_index}\")\n",
        "print(\"👉 Actual: Not Fraud (0), Predicted:\", \"✅ Not Fraud\" if pred_nf == 0 else \"❌ Fraud\")\n",
        "\n",
        "# Get the positional index of the non-fraud sample within X_test\n",
        "# This is needed to index the shap_values Explanation object correctly\n",
        "try:\n",
        "    positional_index_nf = X_test.index.get_loc(not_fraud_index)\n",
        "    print(f\"Positional index of original index {not_fraud_index} in X_test: {positional_index_nf}\")\n",
        "except KeyError:\n",
        "    print(f\"Error: Original index {not_fraud_index} not found in X_test.\")\n",
        "    positional_index_nf = None # Set to None if not found\n",
        "\n",
        "if positional_index_nf is not None:\n",
        "    # SHAP Explanation\n",
        "    # explainer is the SHAP explainer object from previous cells\n",
        "    # shap_values is the Explanation object for the entire X_test from previous cells\n",
        "\n",
        "    # Access the SHAP values, base values, and data for the specific instance\n",
        "    # using the positional index\n",
        "    ex_nf = shap.Explanation(\n",
        "        values=shap_values[positional_index_nf].values,\n",
        "        base_values=shap_values[positional_index_nf].base_values,\n",
        "        data=shap_values[positional_index_nf].data,\n",
        "        feature_names=X_test.columns.tolist() # Use feature names from X_test\n",
        "    )\n",
        "\n",
        "    # Display force plot\n",
        "    shap.initjs()\n",
        "    display(shap.force_plot(ex_nf))\n",
        "\n",
        "else:\n",
        "     print(\"Cannot generate force plot because the non-fraud index was not found in X_test.\")"
      ],
      "metadata": {
        "id": "MNhwoFOvnXFC"
      },
      "execution_count": null,
      "outputs": []
    },
    {
      "cell_type": "code",
      "source": [
        "shap.initjs()\n",
        "print(\"\\n🔍 Force Plot for FRAUD (Predicted as  Fraud ❌)\")\n",
        "display(shap.force_plot(ex_fraud.base_values, ex_fraud.values, ex_fraud.data))\n",
        "\n",
        "print(\"\\n🔍 Force Plot for NOT FRAUD (Predicted as Not Fraud ✅)\")\n",
        "display(shap.force_plot(ex_nf.base_values, ex_nf.values, ex_nf.data))\n"
      ],
      "metadata": {
        "id": "iwxjZ5tznj2b"
      },
      "execution_count": null,
      "outputs": []
    },
    {
      "cell_type": "code",
      "source": [
        "# Assuming explainer and X_test are available from previous steps\n",
        "# Assuming shap_values is the Explanation object for the entire X_test\n",
        "\n",
        "# Safe loop with proper SHAP explanation object\n",
        "for i in [102442, 263020, 77348]:  # Corrected list of indices (using one confirmed fraud: 77348, and one confirmed not fraud: 263020, and another confirmed fraud: 102442)\n",
        "    # Get the sample from X_test using the original index label\n",
        "    # Use .loc for label-based indexing\n",
        "    try:\n",
        "        sample = X_test.loc[i]\n",
        "        pred = model.predict([sample])[0]\n",
        "\n",
        "        print(f\"\\n🔍 Sample {i} — Prediction: {'Fraud' if pred else 'Not Fraud'}\")\n",
        "\n",
        "        # Get the positional index of the sample within X_test\n",
        "        # This is needed to index the shap_values Explanation object correctly\n",
        "        positional_index = X_test.index.get_loc(i)\n",
        "\n",
        "        # Get SHAP explanation for this instance using the positional index\n",
        "        # Access the SHAP values, base values, and data for the specific instance\n",
        "        ex_sample = shap.Explanation(\n",
        "            values=shap_values[positional_index].values,\n",
        "            base_values=shap_values[positional_index].base_values,\n",
        "            data=shap_values[positional_index].data,\n",
        "            feature_names=X_test.columns.tolist() # Use feature names from X_test\n",
        "        )\n",
        "\n",
        "        # Display force plot (no error!)\n",
        "        shap.initjs()\n",
        "        display(shap.force_plot(ex_sample))\n",
        "\n",
        "    except KeyError:\n",
        "        print(f\"\\n⚠️ Warning: Original index {i} not found in X_test. Skipping this instance.\")\n",
        "    except Exception as e:\n",
        "        print(f\"\\n❌ Error processing index {i}: {e}\")"
      ],
      "metadata": {
        "id": "F6iCoVIQnnVS"
      },
      "execution_count": null,
      "outputs": []
    }
  ]
}